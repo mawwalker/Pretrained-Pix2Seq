{
 "cells": [
  {
   "cell_type": "code",
   "execution_count": 4,
   "id": "be02a78f-f9b1-4f14-be6e-2568e6d299e5",
   "metadata": {},
   "outputs": [
    {
     "name": "stdout",
     "output_type": "stream",
     "text": [
      "Not using distributed mode\n",
      "git:\n",
      "  sha: 7d908d499212bfabd33aeaa838778a6bfb7b84cc, status: has uncommited changes, branch: dev\n",
      "\n",
      "Traceback (most recent call last):\n",
      "  File \"visual.py\", line 212, in <module>\n",
      "    main(args)\n",
      "  File \"visual.py\", line 206, in main\n",
      "    tw.draw_model(model, [1, 3, 512, 512])\n",
      "  File \"/usr/local/lib/python3.8/dist-packages/tensorwatch/__init__.py\", line 35, in draw_model\n",
      "    g = pytorch_draw_model.draw_graph(model, input_shape)\n",
      "  File \"/usr/local/lib/python3.8/dist-packages/tensorwatch/model_graph/hiddenlayer/pytorch_draw_model.py\", line 35, in draw_graph\n",
      "    dot = draw_img_classifier(model, args)\n",
      "  File \"/usr/local/lib/python3.8/dist-packages/tensorwatch/model_graph/hiddenlayer/pytorch_draw_model.py\", line 63, in draw_img_classifier\n",
      "    g = SummaryGraph(non_para_model, dummy_input)\n",
      "  File \"/usr/local/lib/python3.8/dist-packages/tensorwatch/model_graph/hiddenlayer/summary_graph.py\", line 85, in __init__\n",
      "    with torch.onnx.set_training(model_clone, False):\n",
      "AttributeError: module 'torch.onnx' has no attribute 'set_training'\n"
     ]
    }
   ],
   "source": [
    "! python visual.py --coco_path ./coco --resume coco_ap370.pth --num_classes 90 --device cpu --img_path /home/dsm/Datasets/coco/000000000785.jpg"
   ]
  },
  {
   "cell_type": "code",
   "execution_count": null,
   "id": "faf7cfa1-e21a-4bd9-b3d0-e815d97f6d44",
   "metadata": {},
   "outputs": [],
   "source": []
  }
 ],
 "metadata": {
  "kernelspec": {
   "display_name": "Python 3 (ipykernel)",
   "language": "python",
   "name": "python3"
  },
  "language_info": {
   "codemirror_mode": {
    "name": "ipython",
    "version": 3
   },
   "file_extension": ".py",
   "mimetype": "text/x-python",
   "name": "python",
   "nbconvert_exporter": "python",
   "pygments_lexer": "ipython3",
   "version": "3.8.10"
  }
 },
 "nbformat": 4,
 "nbformat_minor": 5
}
